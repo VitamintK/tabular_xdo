{
 "cells": [
  {
   "cell_type": "code",
   "execution_count": 10,
   "id": "worst-following",
   "metadata": {},
   "outputs": [],
   "source": [
    "import numpy as np\n",
    "from random import shuffle\n",
    "from scipy.stats import entropy\n",
    "import pandas as pd\n",
    "import matplotlib.pyplot as plt\n",
    "import math\n",
    "import time\n",
    "import nashpy as nash\n",
    "import random\n",
    "import time\n",
    "import open_spiel\n",
    "import pyspiel\n",
    "from open_spiel.python.algorithms import lp_solver"
   ]
  },
  {
   "cell_type": "code",
   "execution_count": 11,
   "id": "split-softball",
   "metadata": {},
   "outputs": [
    {
     "data": {
      "text/plain": "'\\nRow player max, col player min\\n'"
     },
     "execution_count": 11,
     "metadata": {},
     "output_type": "execute_result"
    }
   ],
   "source": [
    "\"\"\"\n",
    "Row player max, col player min\n",
    "\"\"\""
   ]
  },
  {
   "cell_type": "code",
   "execution_count": 12,
   "id": "sexual-british",
   "metadata": {},
   "outputs": [],
   "source": [
    "def get_br_to_strat(strat, payoffs, strat_is_row=True, verbose=False, random=False):\n",
    "    if strat_is_row:\n",
    "        weighted_payouts = strat@payoffs\n",
    "        if random:\n",
    "            weighted_payouts += np.random.rand(weighted_payouts.shape[0])/200\n",
    "        if verbose:\n",
    "            print(\"strat \", strat)\n",
    "            print(\"weighted payouts \", weighted_payouts)\n",
    "        \n",
    "        br = np.zeros_like(weighted_payouts)\n",
    "        br[np.argmin(weighted_payouts)] = 1\n",
    "        idx = np.argmin(weighted_payouts)\n",
    "    else:\n",
    "        weighted_payouts = payoffs@strat.T\n",
    "        if random:\n",
    "            weighted_payouts += np.random.rand(weighted_payouts.shape[0])/200\n",
    "        if verbose:\n",
    "            print(\"strat \", strat)\n",
    "            print(\"weighted payouts \", weighted_payouts)\n",
    "            \n",
    "        br = np.zeros_like(weighted_payouts)\n",
    "        br[np.argmax(weighted_payouts)] = 1\n",
    "        idx = np.argmax(weighted_payouts)\n",
    "    return br, idx"
   ]
  },
  {
   "cell_type": "code",
   "execution_count": 13,
   "id": "cathedral-arena",
   "metadata": {},
   "outputs": [],
   "source": [
    "def fictitious_play(payoffs, iters=2000, verbose=False):\n",
    "    row_dim = payoffs.shape[0]\n",
    "    col_dim = payoffs.shape[1]\n",
    "    row_pop = np.random.uniform(0,1,(1, row_dim))\n",
    "    row_pop = row_pop/row_pop.sum(axis=1)[:,None]\n",
    "    row_averages = row_pop\n",
    "    col_pop = np.random.uniform(0,1,(1, col_dim))\n",
    "    col_pop = col_pop/col_pop.sum(axis=1)[:,None]\n",
    "    col_averages = col_pop\n",
    "    start_time = time.time()\n",
    "    times = []\n",
    "    exps = []\n",
    "    for i in range(iters):\n",
    "        row_average = np.average(row_pop, axis=0)\n",
    "        col_average = np.average(col_pop, axis=0)\n",
    "   \n",
    "        row_br, idx = get_br_to_strat(col_average, payoffs, strat_is_row=False, verbose=False) \n",
    "        col_br, idx = get_br_to_strat(row_average, payoffs, strat_is_row=True, verbose=False)\n",
    "        \n",
    "        exp1 = row_average@payoffs@col_br.T\n",
    "        exp2 = row_br@payoffs@col_average.T\n",
    "        exps.append(exp2-exp1)\n",
    "        elapsed_time = time.time() - start_time\n",
    "        times.append(elapsed_time)        \n",
    "        if verbose:\n",
    "            print(exps[-1], \"exploitability\")\n",
    "        \n",
    "        row_averages = np.vstack((row_averages, row_average))\n",
    "        col_averages = np.vstack((col_averages, col_average))\n",
    "        \n",
    "        row_pop = np.vstack((row_pop, row_br))\n",
    "        col_pop = np.vstack((col_pop, col_br))\n",
    "    return row_averages, col_averages, exps, times "
   ]
  },
  {
   "cell_type": "code",
   "execution_count": 14,
   "id": "ignored-finland",
   "metadata": {},
   "outputs": [],
   "source": [
    "def get_exploitability(row_pop, col_pop, payoffs, iters=1000):\n",
    "    emp_game_matrix = row_pop@payoffs@col_pop.T\n",
    "    row_averages, col_averages, _, _ = fictitious_play(payoffs=emp_game_matrix, iters=iters)\n",
    "    row_strat = row_averages[-1]@row_pop\n",
    "    col_br, idx = get_br_to_strat(row_strat, payoffs=payoffs, strat_is_row=True)\n",
    "    col_strat = col_averages[-1]@col_pop\n",
    "    row_br, idx = get_br_to_strat(col_strat, payoffs=payoffs, strat_is_row=False)\n",
    "    exp1 = row_strat@payoffs@col_br.T\n",
    "    exp2 = row_br@payoffs@col_strat\n",
    "    return exp2 - exp1"
   ]
  },
  {
   "cell_type": "code",
   "execution_count": 15,
   "id": "coordinated-starter",
   "metadata": {},
   "outputs": [],
   "source": [
    "def double_oracle(payoffs, iters=2000, custom_row_strat=np.array([0]), custom_col_strat=np.array([0]), random=False):\n",
    "    row_dim = payoffs.shape[0]\n",
    "    col_dim = payoffs.shape[1]\n",
    "    row_pop = np.random.uniform(0,1,(1, row_dim))\n",
    "    row_pop = row_pop/row_pop.sum(axis=1)[:,None]\n",
    "    if custom_row_strat.any():\n",
    "        row_pop = custom_row_strat\n",
    "#     print(row_pop, \"row pop\")\n",
    "    row_averages = row_pop\n",
    "    col_pop = np.random.uniform(0,1,(1, col_dim))\n",
    "    col_pop = col_pop/col_pop.sum(axis=1)[:,None]\n",
    "    if custom_col_strat.any():\n",
    "        col_pop = custom_col_strat\n",
    "#     print(col_pop, \"col pop\")\n",
    "    col_averages = col_pop\n",
    "    row_indices = []\n",
    "    col_indices = []\n",
    "    start_time = time.time()\n",
    "    times = []\n",
    "    exps = []\n",
    "    for i in range(iters):\n",
    "#         print(\"Iteration: \", i+1)\n",
    "        emp_game_matrix = row_pop@payoffs@col_pop.T\n",
    "        row_averages, col_averages, _, _ = fictitious_play(payoffs=emp_game_matrix, iters=3000)\n",
    "        nash_prob_1, nash_prob_2, _, _ = lp_solver.solve_zero_sum_matrix_game(\n",
    "            pyspiel.create_matrix_game(emp_game_matrix, -emp_game_matrix))\n",
    "        norm_pos1 = abs(nash_prob_1) / sum(abs(nash_prob_1))\n",
    "        norm_pos2 = abs(nash_prob_2) / sum(abs(nash_prob_2))\n",
    "        row_nash = np.reshape(np.array(norm_pos1), (np.array(norm_pos1).shape[0],)) \n",
    "        col_nash = np.reshape(np.array(norm_pos2), (np.array(norm_pos2).shape[0],))\n",
    "               \n",
    "#         row_strat = row_averages[-1]@row_pop\n",
    "#         col_strat = col_averages[-1]@col_pop       \n",
    "        row_strat = row_nash@row_pop\n",
    "        col_strat = col_nash@col_pop\n",
    "    \n",
    "        row_br, row_idx = get_br_to_strat(col_strat, payoffs, strat_is_row=False, verbose=False, random=random) \n",
    "        col_br, col_idx = get_br_to_strat(row_strat, payoffs, strat_is_row=True, verbose=False, random=random)\n",
    "        \n",
    "#         print(\"Row Index: \", row_idx+1)\n",
    "#         print(\"Column Index: \", col_idx+1)        \n",
    "\n",
    "        if row_idx in row_indices and col_idx in col_indices:\n",
    "#             print(row_indices, col_indices)\n",
    "#             print('num iters do: ', i)\n",
    "            return row_pop, col_pop, row_strat, col_strat, exps, times, row_indices, col_indices\n",
    "        row_indices.append(row_idx)\n",
    "        col_indices.append(col_idx)\n",
    "        \n",
    "        row_pop = np.vstack((row_pop, row_br))\n",
    "        col_pop = np.vstack((col_pop, col_br))\n",
    "        \n",
    "        elapsed_time = time.time() - start_time\n",
    "        times.append(elapsed_time)\n",
    "\n",
    "        exp = get_exploitability(row_pop, col_pop, payoffs)\n",
    "        exps.append(exp)\n",
    "\n",
    "    return row_pop, col_pop, row_strat, col_strat, exps, times, row_indices, col_indices      \n"
   ]
  },
  {
   "cell_type": "code",
   "execution_count": 16,
   "id": "harmful-vector",
   "metadata": {},
   "outputs": [],
   "source": [
    "def combine_two_payoffs(payoff1, payoff2):\n",
    "    rows = payoff1.shape[0]\n",
    "    cols = payoff1.shape[1]\n",
    "    new_payoffs = np.zeros((rows**2, cols*2))\n",
    "    for row1 in range(rows):\n",
    "        for row2 in range(rows):\n",
    "            for col in range(cols):\n",
    "                new_payoffs[rows*row1 + row2, col] = payoff1[row1, col]\n",
    "            for col in range(cols):\n",
    "                new_payoffs[rows*row1 + row2, cols + col] = payoff2[row2, col]\n",
    "    return new_payoffs"
   ]
  },
  {
   "cell_type": "code",
   "execution_count": 17,
   "id": "stuck-width",
   "metadata": {},
   "outputs": [],
   "source": [
    "def phantom(payoff1, payoff2):\n",
    "    rows = payoff1.shape[0]\n",
    "    cols = payoff1.shape[1]\n",
    "    new_payoffs = np.zeros((rows**2, cols**2))\n",
    "    for row1 in range(rows):\n",
    "        for row2 in range(rows):\n",
    "            for col1 in range(cols):\n",
    "                for col2 in range(cols):\n",
    "                    new_payoffs[rows*row1 + row2, cols*col1 + col2] = payoff1[row1, col1] + payoff2[row2, col2]\n",
    "    return new_payoffs"
   ]
  },
  {
   "cell_type": "code",
   "execution_count": 19,
   "id": "phantom-trainer",
   "metadata": {},
   "outputs": [
    {
     "name": "stdout",
     "output_type": "stream",
     "text": [
      "[[ 0. -1.  1.  0. -1.  1.]\n",
      " [ 0. -1.  1.  1.  0. -1.]\n",
      " [ 0. -1.  1. -1.  1.  0.]\n",
      " [ 1.  0. -1.  0. -1.  1.]\n",
      " [ 1.  0. -1.  1.  0. -1.]\n",
      " [ 1.  0. -1. -1.  1.  0.]\n",
      " [-1.  1.  0.  0. -1.  1.]\n",
      " [-1.  1.  0.  1.  0. -1.]\n",
      " [-1.  1.  0. -1.  1.  0.]]\n",
      "iter:  0\n",
      "9 row\n",
      "6 col\n",
      "iter:  1\n",
      "9 row\n",
      "6 col\n",
      "iter:  2\n",
      "7 row\n",
      "6 col\n",
      "iter:  3\n",
      "8 row\n",
      "6 col\n",
      "iter:  4\n",
      "9 row\n",
      "6 col\n",
      "iter:  5\n",
      "8 row\n",
      "6 col\n",
      "iter:  6\n",
      "8 row\n",
      "6 col\n",
      "iter:  7\n",
      "8 row\n",
      "6 col\n",
      "iter:  8\n",
      "9 row\n",
      "6 col\n",
      "iter:  9\n",
      "9 row\n",
      "6 col\n",
      "iter:  10\n",
      "9 row\n",
      "6 col\n",
      "iter:  11\n",
      "9 row\n",
      "6 col\n",
      "iter:  12\n",
      "9 row\n",
      "6 col\n",
      "iter:  13\n",
      "9 row\n",
      "6 col\n",
      "iter:  14\n",
      "8 row\n",
      "6 col\n",
      "iter:  15\n",
      "9 row\n",
      "6 col\n",
      "iter:  16\n",
      "7 row\n",
      "6 col\n",
      "iter:  17\n",
      "8 row\n",
      "6 col\n",
      "iter:  18\n",
      "6 row\n",
      "6 col\n",
      "iter:  19\n",
      "8 row\n",
      "6 col\n"
     ]
    }
   ],
   "source": [
    "num_exps = 200\n",
    "RPS = np.array([[0,-1,1],[1,0,-1],[-1,1,0]])\n",
    "\n",
    "payoffs = combine_two_payoffs(RPS, RPS)\n",
    "print(payoffs)\n",
    "\n",
    "num_row_strats_list = []\n",
    "num_col_strats_list = []\n",
    "for i in range(num_exps):\n",
    "    _, _, _, _, _, _, row_indices, col_indices = double_oracle(payoffs, random=False)\n",
    "    num_row_strats = len(list(set(row_indices)))\n",
    "    num_col_strats = len(list(set(col_indices)))\n",
    "    num_row_strats_list.append(num_row_strats)\n",
    "    num_col_strats_list.append(num_col_strats)\n",
    "    print('iter: ', i)\n",
    "    print(num_row_strats, 'row')\n",
    "    print(num_col_strats, 'col')"
   ]
  },
  {
   "cell_type": "code",
   "execution_count": 20,
   "id": "confident-classroom",
   "metadata": {},
   "outputs": [
    {
     "data": {
      "text/plain": "(array([ 0.,  0.,  0.,  0.,  0.,  0.,  1.,  2., 17.]),\n array([0, 1, 2, 3, 4, 5, 6, 7, 8, 9]),\n <a list of 9 Patch objects>)"
     },
     "execution_count": 20,
     "metadata": {},
     "output_type": "execute_result"
    },
    {
     "data": {
      "text/plain": "<Figure size 432x288 with 1 Axes>",
      "image/png": "[encoded data removed]"
     },
     "metadata": {
      "needs_background": "light"
     },
     "output_type": "display_data"
    }
   ],
   "source": [
    "plt.hist(num_row_strats_list[:150], bins=[i for i in range(10)], align='right', )"
   ]
  },
  {
   "cell_type": "code",
   "execution_count": 21,
   "id": "exact-shopping",
   "metadata": {},
   "outputs": [
    {
     "data": {
      "text/plain": "(array([ 0.,  0.,  0.,  0.,  0.,  0., 20.,  0.,  0.]),\n array([0, 1, 2, 3, 4, 5, 6, 7, 8, 9]),\n <a list of 9 Patch objects>)"
     },
     "execution_count": 21,
     "metadata": {},
     "output_type": "execute_result"
    },
    {
     "data": {
      "text/plain": "<Figure size 432x288 with 1 Axes>",
      "image/png": "[encoded data removed]"
     },
     "metadata": {
      "needs_background": "light"
     },
     "output_type": "display_data"
    }
   ],
   "source": [
    "plt.hist(num_col_strats_list[:150], bins=[i for i in range(10)], align='right', )"
   ]
  },
  {
   "cell_type": "code",
   "execution_count": null,
   "id": "fluid-relation",
   "metadata": {},
   "outputs": [],
   "source": []
  },
  {
   "cell_type": "code",
   "execution_count": null,
   "outputs": [],
   "source": [],
   "metadata": {
    "collapsed": false,
    "pycharm": {
     "name": "#%%\n"
    }
   }
  },
  {
   "cell_type": "code",
   "execution_count": null,
   "outputs": [],
   "source": [],
   "metadata": {
    "collapsed": false,
    "pycharm": {
     "name": "#%%\n"
    }
   }
  },
  {
   "cell_type": "code",
   "execution_count": null,
   "outputs": [],
   "source": [],
   "metadata": {
    "collapsed": false,
    "pycharm": {
     "name": "#%%\n"
    }
   }
  }
 ],
 "metadata": {
  "kernelspec": {
   "display_name": "Python 3",
   "language": "python",
   "name": "python3"
  },
  "language_info": {
   "codemirror_mode": {
    "name": "ipython",
    "version": 3
   },
   "file_extension": ".py",
   "mimetype": "text/x-python",
   "name": "python",
   "nbconvert_exporter": "python",
   "pygments_lexer": "ipython3",
   "version": "3.6.12"
  }
 },
 "nbformat": 4,
 "nbformat_minor": 5
}